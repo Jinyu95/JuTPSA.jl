{
 "cells": [
  {
   "cell_type": "markdown",
   "metadata": {},
   "source": [
    "Test tracking code with a custom beamline. Compare the results with ELEGANT."
   ]
  },
  {
   "cell_type": "code",
   "execution_count": 1,
   "metadata": {},
   "outputs": [
    {
     "name": "stdout",
     "output_type": "stream",
     "text": [
      "[D1, Q1, D2, Q2, B1, RFC] results: "
     ]
    },
    {
     "name": "stdout",
     "output_type": "stream",
     "text": [
      "[-0.00028155417594506765, -0.0005639245314606879, 0.0005591861891897302, -0.0011517287778775817, 2.5999928727519754, 9.999999949972249e-5]\n",
      "x difference: -1.0625181290357943e-17\n",
      "x' difference: -2.899156609226239e-16\n",
      "y difference: -3.480288973678469e-17\n",
      "y' difference: -7.216449660063518e-16\n",
      "delta t difference: 2.2631661559450837e-21\n",
      "dp/p difference: -6.276866775910966e-13\n"
     ]
    }
   ],
   "source": [
    "include(\"../src/JuTrack.jl\")\n",
    "using .JuTrack\n",
    "parts = [Float64[0.001, 0.0001, 0.0005, 0.0002, 0.0, 0.0], Float64[0.001, 0.0, 0.0, 0.0, 0.0, 0.0]]\n",
    "D1 = EDRIFT(\"D1\", 0.5)\n",
    "D2 = EDRIFT(\"D2\", 0.5)\n",
    "Q1 = KQUAD(\"Q1\", 0.5, 2, 0.0, 0.0, 0.0, 0, 0, 10)\n",
    "Q2 = KQUAD(\"Q2\", 0.5, -3, 0.0, 0.0, 0.0, 0, 0, 10)\n",
    "B1 = CSBEND(\"B1\", 0.5, 0.1, 0.0, 0.0, 10)\n",
    "RFC = RFCA(\"RFCA\", 0.1, 500e6, 1e6, 90, 10)\n",
    "line = [D1, Q1, D2, Q2, B1, RFC]\n",
    "Po = 19569.507622969009\n",
    "p_error = 0.0\n",
    "sigmaDelta2 = 0.0\n",
    "pout = linepass(line, parts, Po, p_error, sigmaDelta2)\n",
    "gamma = sqrt(Po^2 + 1)\n",
    "beta = Po / gamma\n",
    "c_mks = 299792458\n",
    "println(\"[D1, Q1, D2, Q2, B1, RFC] results: \", pout[1])\n",
    "elegant_result = [-0.000281554175945057\t-0.000563924531460398\t0.000559186189189765\t-0.00115172877787686\t8.67264271253231e-09\t19571.4645737338]\n",
    "println(\"x difference: \", pout[1][1] - elegant_result[1])\n",
    "println(\"x' difference: \", pout[1][2] - elegant_result[2])\n",
    "println(\"y difference: \", pout[1][3] - elegant_result[3])\n",
    "println(\"y' difference: \", pout[1][4] - elegant_result[4])  \n",
    "println(\"delta t difference: \", pout[1][5]/c_mks*sqrt(1+gamma^2)/gamma - elegant_result[5])\n",
    "println(\"dp/p difference: \", pout[1][6] - (elegant_result[6]-Po)/Po)"
   ]
  },
  {
   "cell_type": "code",
   "execution_count": 2,
   "metadata": {},
   "outputs": [
    {
     "name": "stdout",
     "output_type": "stream",
     "text": [
      "FODO results: [-0.0002010397537555876, -0.0005268055293120732, 0.0005935916707167444, -0.000984236019001601, 2.000000944029706, 0.0]\n",
      "x difference: 1.4094628242311558e-18\n",
      "x' difference: 7.589415207398531e-19\n",
      "y difference: 4.336808689942018e-19\n",
      "y' difference: 1.0842021724855044e-18\n",
      "delta t difference: -1.6543612251060553e-24\n",
      "dp/p difference: 5.577011252171361e-16\n"
     ]
    }
   ],
   "source": [
    "line = [Q1, D1, Q2, D2]\n",
    "pout = linepass(line, parts, Po, p_error, sigmaDelta2)\n",
    "gamma = sqrt(Po^2 + 1)\n",
    "beta = Po / gamma\n",
    "c_mks = 299792458\n",
    "println(\"FODO results: \", pout[1])\n",
    "elegant_result = [-0.000201039753755589\t-0.000526805529312074\t0.000593591670716744\t-0.000984236019001602\t6.67128506161722e-09\t19569.507622969]\n",
    "println(\"x difference: \", pout[1][1] - elegant_result[1])\n",
    "println(\"x' difference: \", pout[1][2] - elegant_result[2])\n",
    "println(\"y difference: \", pout[1][3] - elegant_result[3])\n",
    "println(\"y' difference: \", pout[1][4] - elegant_result[4])  \n",
    "println(\"delta t difference: \", pout[1][5]/c_mks*sqrt(1+gamma^2)/gamma - elegant_result[5])\n",
    "println(\"dp/p difference: \", pout[1][6] - (elegant_result[6]-Po)/Po)"
   ]
  },
  {
   "cell_type": "code",
   "execution_count": null,
   "metadata": {},
   "outputs": [],
   "source": []
  }
 ],
 "metadata": {
  "kernelspec": {
   "display_name": "Julia 1.9.1",
   "language": "julia",
   "name": "julia-1.9"
  },
  "language_info": {
   "file_extension": ".jl",
   "mimetype": "application/julia",
   "name": "julia",
   "version": "1.9.1"
  }
 },
 "nbformat": 4,
 "nbformat_minor": 2
}
