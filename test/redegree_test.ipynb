{
 "cells": [
  {
   "cell_type": "markdown",
   "metadata": {},
   "source": [
    "# Zygote gives wrong derivatives when using redegree function to extend the degree of TPS struc.\n",
    "# The results prove Zygote has some problems. But it is difficult to locate the source of the error.\n",
    "# Here are some tests of the redegree function"
   ]
  },
  {
   "cell_type": "code",
   "execution_count": 7,
   "metadata": {},
   "outputs": [
    {
     "name": "stdout",
     "output_type": "stream",
     "text": [
      "result of f(a): [3.0, 1.0, 0.0]\n",
      "derivative with respect to a: ([2.0, 0.0, 0.0],)\n"
     ]
    },
    {
     "name": "stderr",
     "output_type": "stream",
     "text": [
      "WARNING: replacing module JuTPSA.\n",
      "WARNING: using JuTPSA.CTPS in module Main conflicts with an existing identifier.\n"
     ]
    }
   ],
   "source": [
    "using Zygote\n",
    "include(\"../src/JuTPSA.jl\")\n",
    "using .JuTPSA\n",
    "\n",
    "# a simplified redegree function\n",
    "function f(a::T) where T<:Number\n",
    "    # create a variable = a + x1, the polymap is [a, 1] for [constant, x1]\n",
    "    ctps = CTPS(a, 1, 1, 2)\n",
    "\n",
    "    # extend the variable to second degree\n",
    "    degree = ctps.degree + 1\n",
    "    Max_TPS_Degree = 2\n",
    "    TPS_Dim = 1\n",
    "    degree = min(degree+1, Max_TPS_Degree)\n",
    "    terms = binomial(TPS_Dim + degree, degree)\n",
    "\n",
    "    # new_map = zeros(T, terms)\n",
    "    # new_map[1:ctps.terms] = ctps.map  # mutating array\n",
    "    new_map = [i <= length(ctps.map) ? ctps.map[i] : zero(T) for i in 1:terms] # extend the map, this approach avoids mutating the array\n",
    "\n",
    "    # the output is a polymap with [a, 1, 0] for [constant, x1, x1^2]\n",
    "    return new_map\n",
    "end\n",
    "\n",
    "a = 3.0\n",
    "result = f(a)\n",
    "grad = jacobian(f, a)\n",
    "println(\"result of f(a): $result\")\n",
    "println(\"derivative with respect to a: $grad\")"
   ]
  },
  {
   "cell_type": "code",
   "execution_count": 11,
   "metadata": {},
   "outputs": [
    {
     "name": "stdout",
     "output_type": "stream",
     "text": [
      "[3.0, 1.0]\n",
      "[3.0, 1.0]\n",
      "[3.0, 1.0]\n",
      "[3.0, 1.0]\n"
     ]
    },
    {
     "name": "stdout",
     "output_type": "stream",
     "text": [
      "result of f(a): [3.0, 1.0, 0.0]\n",
      "derivative with respect to a: ([1.0, 0.0, 0.0],)\n"
     ]
    }
   ],
   "source": [
    "function f(a::T) where T<:Number\n",
    "    # directly create the map [a, 1] for [constant, x1], without using CTPS struct\n",
    "    ctps = CTPS(a, 1, 1, 2)\n",
    "    map = [a, 1] # the same as ctps.map\n",
    "    println(ctps.map)\n",
    "    println(map)\n",
    "    # extend the variable to second degree\n",
    "    degree = ctps.degree + 1\n",
    "    Max_TPS_Degree = 2\n",
    "    TPS_Dim = 1\n",
    "    degree = min(degree+1, Max_TPS_Degree)\n",
    "    terms = binomial(TPS_Dim + degree, degree)\n",
    "\n",
    "    # new_map = [i <= length(ctps.map) ? ctps.map[i] : zero(T) for i in 1:terms] # extend the map, this approach avoids mutating the array\n",
    "    new_map = [i <= length(ctps.map) ? map[i] : zero(T) for i in 1:terms]\n",
    "    \n",
    "    # the output is a polymap with [a, 1, 0] for [constant, x1, x1^2]\n",
    "    return new_map\n",
    "end\n",
    "\n",
    "a = 3.0\n",
    "result = f(a)\n",
    "grad = jacobian(f, a)\n",
    "println(\"result of f(a): $result\")\n",
    "println(\"derivative with respect to a: $grad\")"
   ]
  },
  {
   "cell_type": "code",
   "execution_count": 9,
   "metadata": {},
   "outputs": [
    {
     "name": "stdout",
     "output_type": "stream",
     "text": [
      "result of f(a): [3.0, 1.0, 0.0]\n",
      "derivative with respect to a: ([1.0, 0.0, 0.0],)\n"
     ]
    }
   ],
   "source": [
    "function f(a::T) where T<:Number\n",
    "    # create a variable = a + x1, the polymap is [a, 1] for [constant, x1]\n",
    "    ctps = CTPS(a, 1, 1, 2)\n",
    "\n",
    "    # extend the variable to second degree\n",
    "    degree = ctps.degree + 1\n",
    "    Max_TPS_Degree = 2\n",
    "    TPS_Dim = 1\n",
    "    degree = min(degree+1, Max_TPS_Degree)\n",
    "    terms = binomial(TPS_Dim + degree, degree)\n",
    "\n",
    "    # # extend the map, using Zygote.Buffer that allows mutation of arrays\n",
    "    new_map = zeros(T, terms)\n",
    "    new_map_buffer = Zygote.Buffer(new_map)\n",
    "    for i in 1:ctps.terms\n",
    "        new_map_buffer[i] = ctps.map[i]\n",
    "    end\n",
    "    for i in ctps.terms+1:terms\n",
    "        new_map_buffer[i] = zero(T)\n",
    "    end\n",
    "    new_map = copy(new_map_buffer)\n",
    "    \n",
    "    return new_map\n",
    "end\n",
    "\n",
    "a = 3.0\n",
    "grad = jacobian(f, a)\n",
    "println(\"result of f(a): $result\")\n",
    "println(\"derivative with respect to a: $grad\")"
   ]
  },
  {
   "cell_type": "code",
   "execution_count": 1,
   "metadata": {},
   "outputs": [
    {
     "name": "stdout",
     "output_type": "stream",
     "text": [
      "derivative with respect to a: ([2.0, 0.0, 0.0],)\n"
     ]
    }
   ],
   "source": [
    "# Zygote has problems dealing with mutable struct\n",
    "\n",
    "using Zygote\n",
    "\n",
    "mutable struct S1\n",
    "    map::Vector{Float64}\n",
    "end\n",
    "\n",
    "function S1(a)\n",
    "    return S1([a, 1])\n",
    "end\n",
    "\n",
    "function f1(a)\n",
    "    s1 = S1(a)\n",
    "    terms = length(s1.map) + 1\n",
    "    new_map = [i <= length(s1.map) ? s1.map[i] : 0.0 for i in 1:terms]\n",
    "    return new_map\n",
    "end\n",
    "\n",
    "a = 3.0\n",
    "grad = jacobian(f1, a)\n",
    "# println(\"result of f(a): $result\")\n",
    "println(\"derivative with respect to a: $grad\")"
   ]
  },
  {
   "cell_type": "code",
   "execution_count": null,
   "metadata": {},
   "outputs": [],
   "source": []
  },
  {
   "cell_type": "code",
   "execution_count": 1,
   "metadata": {},
   "outputs": [
    {
     "name": "stdout",
     "output_type": "stream",
     "text": [
      "ctps1: CTPS{Float64, 3, 3}(1, 4, [1.0, 1.0, 0.0, 0.0], Base.RefValue{PolyMap}(PolyMap(3, 3, [[0, 0, 0, 0], [1, 1, 0, 0], [1, 0, 1, 0], [1, 0, 0, 1], [2, 2, 0, 0], [2, 1, 1, 0], [2, 1, 0, 1], [2, 0, 2, 0], [2, 0, 1, 1], [2, 0, 0, 2], [3, 3, 0, 0], [3, 2, 1, 0], [3, 2, 0, 1], [3, 1, 2, 0], [3, 1, 1, 1], [3, 1, 0, 2], [3, 0, 3, 0], [3, 0, 2, 1], [3, 0, 1, 2], [3, 0, 0, 3]])))\n",
      "ctps2: CTPS{Float64, 3, 3}(1, 4, [2.0, 0.0, 1.0, 0.0], Base.RefValue{PolyMap}(PolyMap(3, 3, [[0, 0, 0, 0], [1, 1, 0, 0], [1, 0, 1, 0], [1, 0, 0, 1], [2, 2, 0, 0], [2, 1, 1, 0], [2, 1, 0, 1], [2, 0, 2, 0], [2, 0, 1, 1], [2, 0, 0, 2], [3, 3, 0, 0], [3, 2, 1, 0], [3, 2, 0, 1], [3, 1, 2, 0], [3, 1, 1, 1], [3, 1, 0, 2], [3, 0, 3, 0], [3, 0, 2, 1], [3, 0, 1, 2], [3, 0, 0, 3]])))"
     ]
    },
    {
     "name": "stdout",
     "output_type": "stream",
     "text": [
      "\n",
      "derivative with respect to a: ([2.0, 2.0, 1.0, 0.0, 0.0, 1.0, 0.0, 0.0, 0.0, 0.0],)\n"
     ]
    }
   ],
   "source": [
    "include(\"../src/JuTPSA.jl\")\n",
    "using .JuTPSA\n",
    "using Zygote\n",
    "ctps1 = CTPS(1.0, 1, 3, 3)\n",
    "ctps2 = CTPS(2.0, 2, 3, 3)\n",
    "println(\"ctps1: $ctps1\")\n",
    "println(\"ctps2: $ctps2\")\n",
    "\n",
    "function f(k)\n",
    "    ctps1 = CTPS(1.0, 1, 3, 3)\n",
    "    ctps2 = CTPS(2.0, 2, 3, 3)\n",
    "    ctps3 = k*ctps1 * ctps2\n",
    "    return ctps3.map\n",
    "end\n",
    "\n",
    "grad = jacobian(f, 3.0)\n",
    "println(\"derivative with respect to a: $grad\")"
   ]
  },
  {
   "cell_type": "code",
   "execution_count": 1,
   "metadata": {},
   "outputs": [
    {
     "name": "stdout",
     "output_type": "stream",
     "text": [
      "x: CTPS{Int64, 6, 2}(1, 7, [0, 1, 0, 0, 0, 0, 0], Base.RefValue{PolyMap}(PolyMap(6, 2, [[0, 0, 0, 0, 0, 0, 0], [1, 1, 0, 0, 0, 0, 0], [1, 0, 1, 0, 0, 0, 0], [1, 0, 0, 1, 0, 0, 0], [1, 0, 0, 0, 1, 0, 0], [1, 0, 0, 0, 0, 1, 0], [1, 0, 0, 0, 0, 0, 1], [2, 2, 0, 0, 0, 0, 0], [2, 1, 1, 0, 0, 0, 0], [2, 1, 0, 1, 0, 0, 0], [2, 1, 0, 0, 1, 0, 0], [2, 1, 0, 0, 0, 1, 0], [2, 1, 0, 0, 0, 0, 1], [2, 0, 2, 0, 0, 0, 0], [2, 0, 1, 1, 0, 0, 0], [2, 0, 1, 0, 1, 0, 0], [2, 0, 1, 0, 0, 1, 0], [2, 0, 1, 0, 0, 0, 1], [2, 0, 0, 2, 0, 0, 0], [2, 0, 0, 1, 1, 0, 0], [2, 0, 0, 1, 0, 1, 0], [2, 0, 0, 1, 0, 0, 1], [2, 0, 0, 0, 2, 0, 0], [2, 0, 0, 0, 1, 1, 0], [2, 0, 0, 0, 1, 0, 1], [2, 0, 0, 0, 0, 2, 0], [2, 0, 0, 0, 0, 1, 1], [2, 0, 0, 0, 0, 0, 2]])))\n",
      ", px: CTPS{Int64, 6, 2}(1, 7, [0, 0, 1, 0, 0, 0, 0], Base.RefValue{PolyMap}(PolyMap(6, 2, [[0, 0, 0, 0, 0, 0, 0], [1, 1, 0, 0, 0, 0, 0], [1, 0, 1, 0, 0, 0, 0], [1, 0, 0, 1, 0, 0, 0], [1, 0, 0, 0, 1, 0, 0], [1, 0, 0, 0, 0, 1, 0], [1, 0, 0, 0, 0, 0, 1], [2, 2, 0, 0, 0, 0, 0], [2, 1, 1, 0, 0, 0, 0], [2, 1, 0, 1, 0, 0, 0], [2, 1, 0, 0, 1, 0, 0], [2, 1, 0, 0, 0, 1, 0], [2, 1, 0, 0, 0, 0, 1], [2, 0, 2, 0, 0, 0, 0], [2, 0, 1, 1, 0, 0, 0], [2, 0, 1, 0, 1, 0, 0], [2, 0, 1, 0, 0, 1, 0], [2, 0, 1, 0, 0, 0, 1], [2, 0, 0, 2, 0, 0, 0], [2, 0, 0, 1, 1, 0, 0], [2, 0, 0, 1, 0, 1, 0], [2, 0, 0, 1, 0, 0, 1], [2, 0, 0, 0, 2, 0, 0], [2, 0, 0, 0, 1, 1, 0], [2, 0, 0, 0, 1, 0, 1], [2, 0, 0, 0, 0, 2, 0], [2, 0, 0, 0, 0, 1, 1], [2, 0, 0, 0, 0, 0, 2]])))\n",
      ", y: CTPS{Int64, 6, 2}(1, 7, [0, 0, 0, 1, 0, 0, 0], Base.RefValue{PolyMap}(PolyMap(6, 2, [[0, 0, 0, 0, 0, 0, 0], [1, 1, 0, 0, 0, 0, 0], [1, 0, 1, 0, 0, 0, 0], [1, 0, 0, 1, 0, 0, 0], [1, 0, 0, 0, 1, 0, 0], [1, 0, 0, 0, 0, 1, 0], [1, 0, 0, 0, 0, 0, 1], [2, 2, 0, 0, 0, 0, 0], [2, 1, 1, 0, 0, 0, 0], [2, 1, 0, 1, 0, 0, 0], [2, 1, 0, 0, 1, 0, 0], [2, 1, 0, 0, 0, 1, 0], [2, 1, 0, 0, 0, 0, 1], [2, 0, 2, 0, 0, 0, 0], [2, 0, 1, 1, 0, 0, 0], [2, 0, 1, 0, 1, 0, 0], [2, 0, 1, 0, 0, 1, 0], [2, 0, 1, 0, 0, 0, 1], [2, 0, 0, 2, 0, 0, 0], [2, 0, 0, 1, 1, 0, 0], [2, 0, 0, 1, 0, 1, 0], [2, 0, 0, 1, 0, 0, 1], [2, 0, 0, 0, 2, 0, 0], [2, 0, 0, 0, 1, 1, 0], [2, 0, 0, 0, 1, 0, 1], [2, 0, 0, 0, 0, 2, 0], [2, 0, 0, 0, 0, 1, 1], [2, 0, 0, 0, 0, 0, 2]])))\n",
      ", py: CTPS{Int64, 6, 2}(1, 7, [0, 0, 0, 0, 1, 0, 0], Base.RefValue{PolyMap}(PolyMap(6, 2, [[0, 0, 0, 0, 0, 0, 0], [1, 1, 0, 0, 0, 0, 0], [1, 0, 1, 0, 0, 0, 0], [1, 0, 0, 1, 0, 0, 0], [1, 0, 0, 0, 1, 0, 0], [1, 0, 0, 0, 0, 1, 0], [1, 0, 0, 0, 0, 0, 1], [2, 2, 0, 0, 0, 0, 0], [2, 1, 1, 0, 0, 0, 0], [2, 1, 0, 1, 0, 0, 0], [2, 1, 0, 0, 1, 0, 0], [2, 1, 0, 0, 0, 1, 0], [2, 1, 0, 0, 0, 0, 1], [2, 0, 2, 0, 0, 0, 0], [2, 0, 1, 1, 0, 0, 0], [2, 0, 1, 0, 1, 0, 0], [2, 0, 1, 0, 0, 1, 0], [2, 0, 1, 0, 0, 0, 1], [2, 0, 0, 2, 0, 0, 0], [2, 0, 0, 1, 1, 0, 0], [2, 0, 0, 1, 0, 1, 0], [2, 0, 0, 1, 0, 0, 1], [2, 0, 0, 0, 2, 0, 0], [2, 0, 0, 0, 1, 1, 0], [2, 0, 0, 0, 1, 0, 1], [2, 0, 0, 0, 0, 2, 0], [2, 0, 0, 0, 0, 1, 1], [2, 0, 0, 0, 0, 0, 2]])))\n",
      ", delta: CTPS{Float64, 6, 2}(1, 7, [0.001, 0.0, 0.0, 0.0, 0.0, 1.0, 0.0], Base.RefValue{PolyMap}(PolyMap(6, 2, [[0, 0, 0, 0, 0, 0, 0], [1, 1, 0, 0, 0, 0, 0], [1, 0, 1, 0, 0, 0, 0], [1, 0, 0, 1, 0, 0, 0], [1, 0, 0, 0, 1, 0, 0], [1, 0, 0, 0, 0, 1, 0], [1, 0, 0, 0, 0, 0, 1], [2, 2, 0, 0, 0, 0, 0], [2, 1, 1, 0, 0, 0, 0], [2, 1, 0, 1, 0, 0, 0], [2, 1, 0, 0, 1, 0, 0], [2, 1, 0, 0, 0, 1, 0], [2, 1, 0, 0, 0, 0, 1], [2, 0, 2, 0, 0, 0, 0], [2, 0, 1, 1, 0, 0, 0], [2, 0, 1, 0, 1, 0, 0], [2, 0, 1, 0, 0, 1, 0], [2, 0, 1, 0, 0, 0, 1], [2, 0, 0, 2, 0, 0, 0], [2, 0, 0, 1, 1, 0, 0], [2, 0, 0, 1, 0, 1, 0], [2, 0, 0, 1, 0, 0, 1], [2, 0, 0, 0, 2, 0, 0], [2, 0, 0, 0, 1, 1, 0], [2, 0, 0, 0, 1, 0, 1], [2, 0, 0, 0, 0, 2, 0], [2, 0, 0, 0, 0, 1, 1], [2, 0, 0, 0, 0, 0, 2]])))\n",
      ", z: CTPS{Int64, 6, 2}(1, 7, [0, 0, 0, 0, 0, 0, 1], Base.RefValue{PolyMap}(PolyMap(6, 2, [[0, 0, 0, 0, 0, 0, 0], [1, 1, 0, 0, 0, 0, 0], [1, 0, 1, 0, 0, 0, 0], [1, 0, 0, 1, 0, 0, 0], [1, 0, 0, 0, 1, 0, 0], [1, 0, 0, 0, 0, 1, 0], [1, 0, 0, 0, 0, 0, 1], [2, 2, 0, 0, 0, 0, 0], [2, 1, 1, 0, 0, 0, 0], [2, 1, 0, 1, 0, 0, 0], [2, 1, 0, 0, 1, 0, 0], [2, 1, 0, 0, 0, 1, 0], [2, 1, 0, 0, 0, 0, 1], [2, 0, 2, 0, 0, 0, 0], [2, 0, 1, 1, 0, 0, 0], [2, 0, 1, 0, 1, 0, 0], [2, 0, 1, 0, 0, 1, 0], [2, 0, 1, 0, 0, 0, 1], [2, 0, 0, 2, 0, 0, 0], [2, 0, 0, 1, 1, 0, 0], [2, 0, 0, 1, 0, 1, 0], [2, 0, 0, 1, 0, 0, 1], [2, 0, 0, 0, 2, 0, 0], [2, 0, 0, 0, 1, 1, 0], [2, 0, 0, 0, 1, 0, 1], [2, 0, 0, 0, 0, 2, 0], [2, 0, 0, 0, 0, 1, 1], [2, 0, 0, 0, 0, 0, 2]])))\n"
     ]
    },
    {
     "name": "stderr",
     "output_type": "stream",
     "text": [
      "WARNING: redefinition of constant polyMapCache. This may fail, cause incorrect answers, or produce other errors.\n"
     ]
    }
   ],
   "source": [
    "include(\"../src/JuTPSA.jl\")\n",
    "using .JuTPSA\n",
    "x = CTPS(0, 1, 6, 2)\n",
    "px = CTPS(0, 2, 6, 2)\n",
    "y = CTPS(0, 3, 6, 2)\n",
    "py = CTPS(0, 4, 6, 2)\n",
    "dp = 0.001\n",
    "\n",
    "delta = CTPS(dp, 5, 6, 2)\n",
    "z = CTPS(0, 6, 6, 2)\n",
    "print(\"x: $x\\n, px: $px\\n, y: $y\\n, py: $py\\n, delta: $delta\\n, z: $z\\n\")"
   ]
  },
  {
   "cell_type": "code",
   "execution_count": 2,
   "metadata": {},
   "outputs": [
    {
     "ename": "MethodError",
     "evalue": "MethodError: no method matching track(::Vector{Main.JuTPSA.AbstractElement}, ::Vector{CTPS{T, 6, 2} where T})\n\nClosest candidates are:\n  track(::Any, !Matched::Array{CTPS{T, TPS_Dim, Max_TPS_Degree}, 1}) where {T, TPS_Dim, Max_TPS_Degree}\n   @ Main.JuTPSA c:\\Users\\WAN\\Desktop\\JuTPSA\\JuTPSA\\src\\tracking\\TPSAtranfermap.jl:101\n",
     "output_type": "error",
     "traceback": [
      "MethodError: no method matching track(::Vector{Main.JuTPSA.AbstractElement}, ::Vector{CTPS{T, 6, 2} where T})\n",
      "\n",
      "Closest candidates are:\n",
      "  track(::Any, !Matched::Array{CTPS{T, TPS_Dim, Max_TPS_Degree}, 1}) where {T, TPS_Dim, Max_TPS_Degree}\n",
      "   @ Main.JuTPSA c:\\Users\\WAN\\Desktop\\JuTPSA\\JuTPSA\\src\\tracking\\TPSAtranfermap.jl:101\n",
      "\n",
      "\n",
      "Stacktrace:\n",
      " [1] top-level scope\n",
      "   @ c:\\Users\\WAN\\Desktop\\JuTPSA\\JuTPSA\\test\\redegree_test.ipynb:4"
     ]
    }
   ],
   "source": [
    "D1 = Drift(\"D1\", 1.0)\n",
    "Q1 = Quad(\"Q1\", 1.0, 2.0, 0)\n",
    "seq = [D1, Q1]\n",
    "track(seq, [x, px, y, py, delta, z])"
   ]
  },
  {
   "cell_type": "code",
   "execution_count": null,
   "metadata": {},
   "outputs": [],
   "source": []
  }
 ],
 "metadata": {
  "kernelspec": {
   "display_name": "Julia 1.9.1",
   "language": "julia",
   "name": "julia-1.9"
  },
  "language_info": {
   "file_extension": ".jl",
   "mimetype": "application/julia",
   "name": "julia",
   "version": "1.9.1"
  }
 },
 "nbformat": 4,
 "nbformat_minor": 2
}
